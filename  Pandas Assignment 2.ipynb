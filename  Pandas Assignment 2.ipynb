{
 "cells": [
  {
   "cell_type": "code",
   "execution_count": 2,
   "id": "a68da80e",
   "metadata": {},
   "outputs": [],
   "source": [
    "import pandas as pd\n",
    "course_name = [\"Data Science\", \"Machine Learning\", \"Big Data\", \"Data Engineer\"]\n",
    "duration = [2,3,6,4]\n",
    "df = pd.DataFrame(data = {\"course_name\" : course_name, \"duration\" : duration})"
   ]
  },
  {
   "cell_type": "code",
   "execution_count": 14,
   "id": "cfd71c84",
   "metadata": {},
   "outputs": [
    {
     "data": {
      "text/plain": [
       "course_name    Machine Learning\n",
       "duration                      3\n",
       "Name: 1, dtype: object"
      ]
     },
     "execution_count": 14,
     "metadata": {},
     "output_type": "execute_result"
    }
   ],
   "source": [
    "# Q1. Write a code to print the data present in the second row of the dataframe, df.\n",
    "df.iloc[1]"
   ]
  },
  {
   "cell_type": "markdown",
   "id": "3132b357",
   "metadata": {},
   "source": [
    "Q2. What is the difference between the functions loc and iloc in pandas.DataFrame?\n",
    "Ans:Both loc and iloc are used to access data in a Pandas DataFrame, but they differ in how they index into the data.\n",
    "\n",
    "loc is label-based, which means that you can access data using the row and column labels. For example, df.loc[2, 'column_name'] would return the value in the row with label 2 and the column with label 'column_name'. The loc function also supports slicing with labels. For example, df.loc[1:3, 'column_name'] would return the values in rows 1 through 3 in the column with label 'column_name'.\n",
    "\n",
    "iloc, on the other hand, is integer position-based, which means that you can access data using the row and column integer positions. For example, df.iloc[2, 1] would return the value in the third row (position 2) and the second column (position 1). The iloc function also supports slicing with integer positions. For example, df.iloc[1:3, 0:2] would return the values in rows 1 through 2 and columns 0 through 1."
   ]
  },
  {
   "cell_type": "code",
   "execution_count": 21,
   "id": "306d9ca1",
   "metadata": {},
   "outputs": [
    {
     "name": "stdout",
     "output_type": "stream",
     "text": [
      "column_1    0.931180\n",
      "column_2    0.758301\n",
      "column_3    0.937863\n",
      "column_4    0.759426\n",
      "column_5    0.775466\n",
      "column_6    0.605741\n",
      "Name: 2, dtype: float64\n",
      "column_1    0.706001\n",
      "column_2    0.950824\n",
      "column_3    0.155949\n",
      "column_4    0.084660\n",
      "column_5    0.871850\n",
      "column_6    0.897973\n",
      "Name: 1, dtype: float64\n"
     ]
    }
   ],
   "source": [
    "# Q3. Reindex the given dataframe using a variable, reindex = [3,0,1,2] and store it in the variable, new_df\n",
    "# then find the output for both new_df.loc[2] and new_df.iloc[2].Did you observe any difference in both the outputs? If so then explain it.\n",
    "# Consider the below code to answer further questions:\n",
    "import pandas as pd\n",
    "import numpy as np\n",
    "columns = ['column_1', 'column_2', 'column_3', 'column_4', 'column_5', 'column_6']\n",
    "indices = [1,2,3,4,5,6]\n",
    "#Creating a dataframe:\n",
    "df1 = pd.DataFrame(np.random.rand(6,6), columns = columns, index = indices)\n",
    "columns = ['column_1', 'column_2', 'column_3', 'column_4', 'column_5', 'column_6']\n",
    "indices = [1,2,3,4,5,6]\n",
    "df1 = pd.DataFrame(np.random.rand(6,6), columns = columns, index = indices)\n",
    "reindex = [3,0,1,2]\n",
    "new_df = df1.reindex(reindex)\n",
    "print(new_df.loc[2])\n",
    "print(new_df.iloc[2])\n"
   ]
  },
  {
   "cell_type": "code",
   "execution_count": 22,
   "id": "346730b9",
   "metadata": {},
   "outputs": [
    {
     "name": "stdout",
     "output_type": "stream",
     "text": [
      "column_1    0.523171\n",
      "column_2    0.364292\n",
      "column_3    0.622527\n",
      "column_4    0.280566\n",
      "column_5    0.547723\n",
      "column_6    0.258837\n",
      "dtype: float64\n"
     ]
    }
   ],
   "source": [
    "# Q4. Write a code to find the following statistical measurements for the above dataframe df1:\n",
    "# (i) mean of each and every column present in the dataframe.\n",
    "columns = ['column_1', 'column_2', 'column_3', 'column_4', 'column_5', 'column_6']\n",
    "indices = [1,2,3,4,5,6]\n",
    "df1 = pd.DataFrame(np.random.rand(6,6), columns = columns, index = indices)\n",
    "column_means = df1.mean()\n",
    "print(column_means)\n"
   ]
  },
  {
   "cell_type": "code",
   "execution_count": 24,
   "id": "54ce43a4",
   "metadata": {},
   "outputs": [
    {
     "name": "stdout",
     "output_type": "stream",
     "text": [
      "column_1    0.816045\n",
      "column_2    0.360988\n",
      "column_3    0.639349\n",
      "column_4    0.383848\n",
      "column_5    0.579356\n",
      "column_6    0.555607\n",
      "dtype: float64\n"
     ]
    }
   ],
   "source": [
    "# (ii) standard deviation of column, ‘column_2’\n",
    "columns = ['column_1', 'column_2', 'column_3', 'column_4', 'column_5', 'column_6']\n",
    "indices = [1,2,3,4,5,6]\n",
    "df1 = pd.DataFrame(np.random.rand(6,6), columns = columns, index = indices)\n",
    "column_means = df1.mean()\n",
    "print(column_means)"
   ]
  },
  {
   "cell_type": "code",
   "execution_count": 28,
   "id": "54476ebd",
   "metadata": {},
   "outputs": [],
   "source": [
    "# Q5. Replace the data present in the second row of column, ‘column_2’ by a string variable then find the\n",
    "# mean of column, column_2.\n",
    "# If you are getting errors in executing it then explain why.\n",
    "# [Hint: To replace the data use df1.loc[] and equate this to string data of your choice.]\n",
    "\n",
    "df1.loc[1, 'column_2'] = 'string data of your choice'\n",
    "mean_value = df1['column_2'].mean()\n",
    "\n"
   ]
  },
  {
   "cell_type": "markdown",
   "id": "db20def7",
   "metadata": {},
   "source": [
    "Q6. What do you understand about the windows function in pandas and list the types of windows\n",
    "functions?\n",
    "Ans:In pandas, a window function is a function that performs a calculation across a defined subset of rows in a DataFrame, called a window, that is based on the ordering of the data. Window functions operate on a sliding window of data, which means that they move through the data one row at a time and compute a new value for each row based on the values in the window.\n",
    "There are several types of window functions in pandas:\n",
    "\n",
    "Rolling Window Functions - These functions operate on a rolling window of a fixed size that moves along the data. Examples include rolling(), expanding(), and ewm().\n",
    "Expanding Window Functions - These functions operate on an expanding window that starts from the first row and includes all the preceding rows up to the current row. Examples include cumsum(), cumprod(), and cummax().\n",
    "Rolling and Expanding Window Aggregations - These functions aggregate data within a rolling or expanding window. Examples include mean(), sum(), and std().\n",
    "GroupBy Window Functions - These functions are used in conjunction with the groupby() function to perform window operations within each group. Examples include groupby().rolling(), groupby().expanding(), and groupby().rolling().mean()."
   ]
  },
  {
   "cell_type": "code",
   "execution_count": 29,
   "id": "820f8dd2",
   "metadata": {},
   "outputs": [
    {
     "name": "stdout",
     "output_type": "stream",
     "text": [
      "Current month and year: March 2023\n"
     ]
    }
   ],
   "source": [
    "# Q7. Write a code to print only the current month and year at the time of answering this question.\n",
    "# [Hint: Use pandas.datetime function]\n",
    "# Ans:\n",
    "import pandas as pd\n",
    "from datetime import datetime\n",
    "\n",
    "now = datetime.now()\n",
    "\n",
    "current_month = now.month\n",
    "current_year = now.year\n",
    "\n",
    "current_month_year = pd.to_datetime(f'{current_year}-{current_month}-01')\n",
    "\n",
    "\n",
    "print(f\"Current month and year: {current_month_year.strftime('%B %Y')}\")\n"
   ]
  },
  {
   "cell_type": "code",
   "execution_count": 32,
   "id": "e9143600",
   "metadata": {},
   "outputs": [
    {
     "name": "stdout",
     "output_type": "stream",
     "text": [
      "Enter first date (YYYY-MM-DD): 2002-10-30\n",
      "Enter second date (YYYY-MM-DD): 2003-11-02\n",
      "The difference between 2002-10-30 and 2003-11-02 is:\n",
      "368 days, 0 hours, and 0 minutes.\n"
     ]
    }
   ],
   "source": [
    "## Q8. Write a Python program that takes in two dates as input (in the format YYYY-MM-DD) and\n",
    "# calculates the difference between them in days, hours, and minutes using Pandas time delta. The\n",
    "# program should prompt the user to enter the dates and display the result.\n",
    "import pandas as pd\n",
    "\n",
    "# prompt user to enter two dates\n",
    "date1 = input(\"Enter first date (YYYY-MM-DD): \")\n",
    "date2 = input(\"Enter second date (YYYY-MM-DD): \")\n",
    "\n",
    "# convert input dates to pandas datetime objects\n",
    "date1 = pd.to_datetime(date1)\n",
    "date2 = pd.to_datetime(date2)\n",
    "\n",
    "# calculate time delta between the two dates\n",
    "time_delta = date2 - date1\n",
    "\n",
    "# extract days, hours, and minutes from the time delta\n",
    "total_seconds = time_delta.total_seconds()\n",
    "days = divmod(total_seconds, 86400)[0]\n",
    "hours = divmod(total_seconds, 3600)[0] % 24\n",
    "minutes = divmod(total_seconds, 60)[0] % 60\n",
    "\n",
    "# display the result\n",
    "print(f\"The difference between {date1.strftime('%Y-%m-%d')} and {date2.strftime('%Y-%m-%d')} is:\")\n",
    "print(f\"{int(days)} days, {int(hours)} hours, and {int(minutes)} minutes.\")\n"
   ]
  },
  {
   "cell_type": "code",
   "execution_count": 36,
   "id": "95f3d7ac",
   "metadata": {},
   "outputs": [],
   "source": [
    "# Q9. Write a Python program that reads a CSV file containing categorical data and converts a specified\n",
    "# column to a categorical data type. The program should prompt the user to enter the file path, column\n",
    "# name, and category order, and then display the sorted data.\n",
    "import pandas as pd\n",
    "\n",
    "# prompt user to enter file path, column name, and category order\n",
    "file_path = input(\"Enter file path: \")\n",
    "column_name = input(\"Enter column name to convert: \")\n",
    "category_order = input(\"Enter category order (comma-separated): \").split(\",\")\n",
    "\n",
    "# read CSV file into pandas dataframe\n",
    "df = pd.read_csv(file_path)\n",
    "\n",
    "# convert column to categorical data type\n",
    "df[column_name] = pd.Categorical(df[column_name], categories=category_order, ordered=True)\n",
    "\n",
    "# sort dataframe by the specified column\n",
    "df = df.sort_values(by=[column_name])\n",
    "\n",
    "# display sorted data\n",
    "print(df)\n"
   ]
  },
  {
   "cell_type": "code",
   "execution_count": 38,
   "id": "b1c97904",
   "metadata": {},
   "outputs": [],
   "source": [
    "# Q10. Write a Python program that reads a CSV file containing sales data for different products and\n",
    "# visualizes the data using a stacked bar chart to show the sales of each product category over time. The\n",
    "# program should prompt the user to enter the file path and display the chart.\n",
    "import pandas as pd\n",
    "import matplotlib.pyplot as plt\n",
    "\n",
    "# prompt user to enter file path\n",
    "file_path = input(\"Enter file path: \")\n",
    "\n",
    "# read CSV file into pandas dataframe\n",
    "df = pd.read_csv(file_path)\n",
    "\n",
    "# convert date column to datetime object\n",
    "df['Date'] = pd.to_datetime(df['Date'])\n",
    "\n",
    "# group by date and product category, summing the sales\n",
    "grouped_data = df.groupby(['Date', 'Product Category'])['Sales'].sum().unstack()\n",
    "\n",
    "# plot stacked bar chart\n",
    "plt.figure(figsize=(10, 6))\n",
    "grouped_data.plot(kind='bar', stacked=True)\n",
    "plt.title('Sales by Product Category over Time')\n",
    "plt.xlabel('Date')\n",
    "plt.ylabel('Sales')\n",
    "plt.show()\n"
   ]
  },
  {
   "cell_type": "code",
   "execution_count": 40,
   "id": "ed25d503",
   "metadata": {},
   "outputs": [],
   "source": [
    "# Q11. You are given a CSV file containing student data that includes the student ID and their test score. Write\n",
    "# a Python program that reads the CSV file, calculates the mean, median, and mode of the test scores, and\n",
    "# displays the results in a table.\n",
    "# The program should do the followingM\n",
    "# I Prompt the user to enter the file path of the CSV file containing the student dataR\n",
    "# I Read the CSV file into a Pandas DataFrameR\n",
    "# I Calculate the mean, median, and mode of the test scores using Pandas toolsR\n",
    "# I Display the mean, median, and mode in a table.\n",
    "# Assume the CSV file contains the following columnsM\n",
    "# I Student ID: The ID of the studentR\n",
    "# I Test Score: The score of the student's test.\n",
    "# Example usage of the program:\n",
    "# Enter the file path of the CSV file containing the student data: student_data.csv\n",
    "# +-----------+--------+\n",
    "# | Statistic | Value |\n",
    "# +-----------+--------+\n",
    "# | Mean | 79.6 |\n",
    "# | Median | 82 |\n",
    "# | Mode | 85, 90 |\n",
    "# +-----------+--------+\n",
    "# Assume that the CSV file student_data.csv contains the following data:\n",
    "# Student ID,Test Score\n",
    "# 1,85\n",
    "# 2,90\n",
    "# 3,80\n",
    "# 4,75\n",
    "# 5,85\n",
    "# 6,82\n",
    "# 7,78\n",
    "# 8,85\n",
    "# 9,90\n",
    "# 10,85\n",
    "# The program should calculate the mean, median, and mode of the test scores and display the results\n",
    "# in a table.\n",
    "import pandas as pd\n",
    "\n",
    "# prompt user to enter file path\n",
    "file_path = input(\"Enter the file path of the CSV file containing the student data: \")\n",
    "\n",
    "# read CSV file into pandas dataframe\n",
    "df = pd.read_csv(file_path)\n",
    "\n",
    "# calculate mean, median, and mode of test scores\n",
    "mean_score = df['Test Score'].mean()\n",
    "median_score = df['Test Score'].median()\n",
    "mode_score = df['Test Score'].mode()\n",
    "\n",
    "# create table of results using pandas dataframe\n",
    "result_table = pd.DataFrame({\n",
    "    'Statistic': ['Mean', 'Median', 'Mode'],\n",
    "    'Value': [mean_score, median_score, mode_score]\n",
    "})\n",
    "\n",
    "# display table of results\n",
    "print(result_table)\n"
   ]
  },
  {
   "cell_type": "code",
   "execution_count": null,
   "id": "5928bcd1",
   "metadata": {},
   "outputs": [],
   "source": []
  },
  {
   "cell_type": "code",
   "execution_count": null,
   "id": "15b7b205",
   "metadata": {},
   "outputs": [],
   "source": []
  }
 ],
 "metadata": {
  "kernelspec": {
   "display_name": "Python 3 (ipykernel)",
   "language": "python",
   "name": "python3"
  },
  "language_info": {
   "codemirror_mode": {
    "name": "ipython",
    "version": 3
   },
   "file_extension": ".py",
   "mimetype": "text/x-python",
   "name": "python",
   "nbconvert_exporter": "python",
   "pygments_lexer": "ipython3",
   "version": "3.10.5"
  }
 },
 "nbformat": 4,
 "nbformat_minor": 5
}
